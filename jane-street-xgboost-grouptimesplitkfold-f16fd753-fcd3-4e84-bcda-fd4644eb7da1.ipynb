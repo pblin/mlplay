{
 "cells": [
  {
   "cell_type": "code",
   "execution_count": null,
   "metadata": {},
   "outputs": [],
   "source": [
    "\n",
    "# IMPORTANT: RUN THIS CELL IN ORDER TO IMPORT YOUR KAGGLE DATASETS\n",
    "# TO THE CORRECT LOCATION (/kaggle/input) IN YOUR NOTEBOOK,\n",
    "# THEN FEEL FREE TO DELETE CELL.\n",
    "\n",
    "import os\n",
    "import sys\n",
    "from tempfile import NamedTemporaryFile\n",
    "from urllib.request import urlopen\n",
    "from urllib.parse import unquote\n",
    "from urllib.error import HTTPError\n",
    "from zipfile import ZipFile\n",
    "\n",
    "CHUNK_SIZE = 40960 \n",
    "DATASET_MAPPING = 'jane-street-market-prediction:https%3A%2F%2Fstorage.googleapis.com%2Fkaggle-competitions-data%2Fkaggle-v2%2F23304%2F1781886%2Fbundle%2Farchive.zip%3FX-Goog-Algorithm%3DGOOG4-RSA-SHA256%26X-Goog-Credential%3Dgcp-kaggle-com%2540kaggle-161607.iam.gserviceaccount.com%252F20201216%252Fauto%252Fstorage%252Fgoog4_request%26X-Goog-Date%3D20201216T221901Z%26X-Goog-Expires%3D259199%26X-Goog-SignedHeaders%3Dhost%26X-Goog-Signature%3D01ef84d3797bfae58b23ef6888ef2068f32c0ba8107b371d74c9926b52ebdfbfe83c67ebd7380a28c3df5522549d635eb6431c19b062941fd3a754b64b3d07254bda8a8f124309e06baadd86c2e6757b9d6091c69cc62afc53f7eac271c5d09103a87b73706914b1c6840f84e9bc8a913f57f7887d77ea3df89bc2bed934aea19d7c552519ab9df7b6e755732a975baa069b98441463aa4456b4c8d02b32187aa1dc7903056036accbaaf4e5f2c88fb8ea71c894465155ccab0f59262d7f6b3ae54940c9541532c82b3e7b11265e7fde87fee2da9fea76eb0d1e12f7af0c14bf0545151f1a3a3623dcd4c68bdc091772e55b0b1ed7fe8c3cfee6733cc1ff8d2c'\n",
    "KAGGLE_INPUT_PATH='/home/kaggle/input'\n",
    "KAGGLE_INPUT_SYMLINK='/kaggle'\n",
    "\n",
    "os.makedirs(KAGGLE_INPUT_PATH, 777)\n",
    "os.symlink(KAGGLE_INPUT_PATH, os.path.join('..', 'input'), target_is_directory=True)\n",
    "os.makedirs(KAGGLE_INPUT_SYMLINK)\n",
    "os.symlink(KAGGLE_INPUT_PATH, os.path.join(KAGGLE_INPUT_SYMLINK, 'input'), target_is_directory=True)\n",
    "\n",
    "for dataset_mapping in DATASET_MAPPING.split(','):\n",
    "    directory, download_url_encoded = dataset_mapping.split(':')\n",
    "    download_url = unquote(download_url_encoded)\n",
    "    destination_path = os.path.join(KAGGLE_INPUT_PATH, directory)\n",
    "    try:\n",
    "        with urlopen(download_url) as zipfileres, NamedTemporaryFile() as tfile:\n",
    "            total_length = zipfileres.headers['content-length']\n",
    "            print(f'Downloading {directory}, {total_length} bytes zipped')\n",
    "            dl = 0\n",
    "            data = zipfileres.read(CHUNK_SIZE)\n",
    "            while len(data) > 0:\n",
    "                dl += len(data)\n",
    "                tfile.write(data)\n",
    "                done = int(50 * dl / int(total_length))\n",
    "                sys.stdout.write(f\"\\r[{'=' * done}{' ' * (50-done)}] {dl} bytes downloaded\")\n",
    "                sys.stdout.flush()\n",
    "                data = zipfileres.read(CHUNK_SIZE)\n",
    "            print(f'\\nUnzipping {directory}')\n",
    "            with ZipFile(tfile) as zfile:\n",
    "                zfile.extractall(destination_path)\n",
    "    except HTTPError as e:\n",
    "        print(f'Failed to load (likely expired) {download_url} to path {destination_path}')\n",
    "        continue\n",
    "    except OSError as e:\n",
    "        print(f'Failed to load {download_url} to path {destination_path}')\n",
    "        continue\n",
    "print('Dataset import complete.')\n"
   ]
  },
  {
   "cell_type": "markdown",
   "metadata": {},
   "source": [
    "# Jane Street: XGBoost HyperOpt + GroupKFold\n",
    "\n",
    "I've made a notebook for hyperparameter tuning for XGBoost/LightGBM/CatBoost models.\n",
    "\n",
    "I have also added a decision threshold optimisation method based on different index methods (e.g., Youden Index) for ROC curve.\n",
    "\n",
    "I use the GroupTimeSplitKFold method. \n",
    "\n",
    "Modified from these excellent notebooks:\n",
    "\n",
    "https://www.kaggle.com/hamditarek/market-prediction-xgboost-with-gpu-fit-in-1min\n",
    "\n",
    "https://www.kaggle.com/xhlulu/jane-street-cudf-xgboost-with-gpu\n",
    "\n",
    "https://www.kaggle.com/jorijnsmit/found-the-holy-grail-grouptimeseriessplit"
   ]
  },
  {
   "cell_type": "code",
   "execution_count": null,
   "metadata": {
    "_kg_hide-output": true
   },
   "outputs": [],
   "source": [
    "import os, gc\n",
    "import cudf\n",
    "import numpy as np\n",
    "import cupy as cp\n",
    "import pandas as pd\n",
    "import janestreet\n",
    "import xgboost as xgb\n",
    "from hyperopt import hp, fmin, tpe, Trials\n",
    "from hyperopt.pyll.base import scope\n",
    "from sklearn.metrics import roc_auc_score, roc_curve\n",
    "from sklearn.model_selection import GroupKFold\n",
    "import matplotlib.pyplot as plt\n",
    "from tqdm.notebook import tqdm"
   ]
  },
  {
   "cell_type": "markdown",
   "metadata": {},
   "source": [
    "# Preprocessing"
   ]
  },
  {
   "cell_type": "code",
   "execution_count": null,
   "metadata": {
    "_kg_hide-output": true
   },
   "outputs": [],
   "source": [
    "print('Loading...')\n",
    "train = cudf.read_csv('/kaggle/input/jane-street-market-prediction/train.csv')\n",
    "features = [c for c in train.columns if 'feature' in c]\n",
    "\n",
    "print('Filling...')\n",
    "# f_mean = train[features[1:]].mean()\n",
    "train = train.query('weight > 0').reset_index(drop = True)\n",
    "# train[features[1:]] = train[features[1:]].fillna(f_mean)\n",
    "train['action'] = (train['resp'] > 0).astype('int')\n",
    "\n",
    "# print('Converting...')\n",
    "# train = train.to_pandas()\n",
    "# f_mean = f_mean.values.get()\n",
    "# np.save('f_mean.npy', f_mean)\n",
    "\n",
    "print('Finish.')"
   ]
  },
  {
   "cell_type": "markdown",
   "metadata": {},
   "source": [
    "# HyperOpt"
   ]
  },
  {
   "cell_type": "code",
   "execution_count": null,
   "metadata": {
    "_kg_hide-output": true
   },
   "outputs": [],
   "source": [
    "# def optimise(params):\n",
    "    \n",
    "#     print(params)\n",
    "#     p = {'learning_rate': params['learning_rate'],\n",
    "#          'max_depth': params['max_depth'], \n",
    "#          'gamma': params['gamma'], \n",
    "#          'min_child_weight': params['min_child_weight'], \n",
    "#          'subsample': params['subsample'], \n",
    "#          'colsample_bytree': params['colsample_bytree'], \n",
    "#          'verbosity': 0, \n",
    "#          'objective': 'binary:logistic',\n",
    "#          'eval_metric': 'auc', \n",
    "#          'tree_method': 'gpu_hist', \n",
    "#          'random_state': 42,\n",
    "#         }\n",
    "    \n",
    "#     oof = np.zeros(len(train['action']))\n",
    "#     gkf = GroupKFold(n_splits = 5)\n",
    "#     for fold, (tr, te) in enumerate(gkf.split(train['action'].values.get(), train['action'].values.get(), train['date'].values.get())):\n",
    "#         X_tr, X_val = train.loc[tr, features], train.loc[te, features]\n",
    "#         y_tr, y_val = train.loc[tr, 'action'], train.loc[te, 'action']\n",
    "\n",
    "#         d_tr = xgb.DMatrix(X_tr, y_tr)\n",
    "#         d_val = xgb.DMatrix(X_val, y_val)\n",
    "#         clf = xgb.train(p, d_tr, 10000, [(d_val, 'eval')], early_stopping_rounds = 100, verbose_eval = 0)\n",
    "#         oof[te] += clf.predict(d_val, ntree_limit = clf.best_ntree_limit)\n",
    "# #         score = roc_auc_score(y_val.to_array(), oof[te])\n",
    "# #         print(f'Fold {fold} ROC AUC:\\t', score)\n",
    "#         rubbish = gc.collect()\n",
    "        \n",
    "#     score_oof = roc_auc_score(train['action'].values.get(), oof)\n",
    "#     print(score_oof)\n",
    "#     return - score_oof"
   ]
  },
  {
   "cell_type": "code",
   "execution_count": null,
   "metadata": {
    "_kg_hide-input": false,
    "_kg_hide-output": true
   },
   "outputs": [],
   "source": [
    "# param_space = {'learning_rate': hp.uniform('learning_rate', 0.01, 0.3), \n",
    "#                'max_depth': scope.int(hp.quniform('max_depth', 3, 11, 1)), \n",
    "#                'gamma': hp.uniform('gamma', 0, 10), \n",
    "#                'min_child_weight': hp.uniform('min_child_weight', 0, 10),\n",
    "#                'subsample': hp.uniform('subsample', 0.5, 1), \n",
    "#                'colsample_bytree': hp.uniform('colsample_bytree', 0.5, 1), \n",
    "#               }\n",
    "\n",
    "# trials = Trials()\n",
    "\n",
    "# hopt = fmin(fn = optimise, \n",
    "#             space = param_space, \n",
    "#             algo = tpe.suggest, \n",
    "#             max_evals = 30, \n",
    "#             trials = trials, \n",
    "#            )"
   ]
  },
  {
   "cell_type": "code",
   "execution_count": null,
   "metadata": {},
   "outputs": [],
   "source": [
    "# print(hopt)"
   ]
  },
  {
   "cell_type": "markdown",
   "metadata": {},
   "source": [
    "# GroupTimeSplitKFold"
   ]
  },
  {
   "cell_type": "code",
   "execution_count": null,
   "metadata": {
    "_kg_hide-input": true
   },
   "outputs": [],
   "source": [
    "from sklearn.model_selection._split import _BaseKFold, indexable, _num_samples\n",
    "from sklearn.utils.validation import _deprecate_positional_args\n",
    "\n",
    "# https://github.com/getgaurav2/scikit-learn/blob/d4a3af5cc9da3a76f0266932644b884c99724c57/sklearn/model_selection/_split.py#L2243\n",
    "class GroupTimeSeriesSplit(_BaseKFold):\n",
    "    \"\"\"Time Series cross-validator variant with non-overlapping groups.\n",
    "    Provides train/test indices to split time series data samples\n",
    "    that are observed at fixed time intervals according to a\n",
    "    third-party provided group.\n",
    "    In each split, test indices must be higher than before, and thus shuffling\n",
    "    in cross validator is inappropriate.\n",
    "    This cross-validation object is a variation of :class:`KFold`.\n",
    "    In the kth split, it returns first k folds as train set and the\n",
    "    (k+1)th fold as test set.\n",
    "    The same group will not appear in two different folds (the number of\n",
    "    distinct groups has to be at least equal to the number of folds).\n",
    "    Note that unlike standard cross-validation methods, successive\n",
    "    training sets are supersets of those that come before them.\n",
    "    Read more in the :ref:`User Guide <cross_validation>`.\n",
    "    Parameters\n",
    "    ----------\n",
    "    n_splits : int, default=5\n",
    "        Number of splits. Must be at least 2.\n",
    "    max_train_size : int, default=None\n",
    "        Maximum size for a single training set.\n",
    "    Examples\n",
    "    --------\n",
    "    >>> import numpy as np\n",
    "    >>> from sklearn.model_selection import GroupTimeSeriesSplit\n",
    "    >>> groups = np.array(['a', 'a', 'a', 'a', 'a', 'a',\\\n",
    "                           'b', 'b', 'b', 'b', 'b',\\\n",
    "                           'c', 'c', 'c', 'c',\\\n",
    "                           'd', 'd', 'd'])\n",
    "    >>> gtss = GroupTimeSeriesSplit(n_splits=3)\n",
    "    >>> for train_idx, test_idx in gtss.split(groups, groups=groups):\n",
    "    ...     print(\"TRAIN:\", train_idx, \"TEST:\", test_idx)\n",
    "    ...     print(\"TRAIN GROUP:\", groups[train_idx],\\\n",
    "                  \"TEST GROUP:\", groups[test_idx])\n",
    "    TRAIN: [0, 1, 2, 3, 4, 5] TEST: [6, 7, 8, 9, 10]\n",
    "    TRAIN GROUP: ['a' 'a' 'a' 'a' 'a' 'a']\\\n",
    "    TEST GROUP: ['b' 'b' 'b' 'b' 'b']\n",
    "    TRAIN: [0, 1, 2, 3, 4, 5, 6, 7, 8, 9, 10] TEST: [11, 12, 13, 14]\n",
    "    TRAIN GROUP: ['a' 'a' 'a' 'a' 'a' 'a' 'b' 'b' 'b' 'b' 'b']\\\n",
    "    TEST GROUP: ['c' 'c' 'c' 'c']\n",
    "    TRAIN: [0, 1, 2, 3, 4, 5, 6, 7, 8, 9, 10, 11, 12, 13, 14]\\\n",
    "    TEST: [15, 16, 17]\n",
    "    TRAIN GROUP: ['a' 'a' 'a' 'a' 'a' 'a' 'b' 'b' 'b' 'b' 'b' 'c' 'c' 'c' 'c']\\\n",
    "    TEST GROUP: ['d' 'd' 'd']\n",
    "    \"\"\"\n",
    "    @_deprecate_positional_args\n",
    "    def __init__(self,\n",
    "                 n_splits=5,\n",
    "                 *,\n",
    "                 max_train_size=None\n",
    "                 ):\n",
    "        super().__init__(n_splits, shuffle=False, random_state=None)\n",
    "        self.max_train_size = max_train_size\n",
    "\n",
    "    def split(self, X, y=None, groups=None):\n",
    "        \"\"\"Generate indices to split data into training and test set.\n",
    "        Parameters\n",
    "        ----------\n",
    "        X : array-like of shape (n_samples, n_features)\n",
    "            Training data, where n_samples is the number of samples\n",
    "            and n_features is the number of features.\n",
    "        y : array-like of shape (n_samples,)\n",
    "            Always ignored, exists for compatibility.\n",
    "        groups : array-like of shape (n_samples,)\n",
    "            Group labels for the samples used while splitting the dataset into\n",
    "            train/test set.\n",
    "        Yields\n",
    "        ------\n",
    "        train : ndarray\n",
    "            The training set indices for that split.\n",
    "        test : ndarray\n",
    "            The testing set indices for that split.\n",
    "        \"\"\"\n",
    "        if groups is None:\n",
    "            raise ValueError(\n",
    "                \"The 'groups' parameter should not be None\")\n",
    "        X, y, groups = indexable(X, y, groups)\n",
    "        n_samples = _num_samples(X)\n",
    "        n_splits = self.n_splits\n",
    "        n_folds = n_splits + 1\n",
    "        group_dict = {}\n",
    "        u, ind = np.unique(groups, return_index=True)\n",
    "        unique_groups = u[np.argsort(ind)]\n",
    "        n_samples = _num_samples(X)\n",
    "        n_groups = _num_samples(unique_groups)\n",
    "        for idx in np.arange(n_samples):\n",
    "            if (groups[idx] in group_dict):\n",
    "                group_dict[groups[idx]].append(idx)\n",
    "            else:\n",
    "                group_dict[groups[idx]] = [idx]\n",
    "        if n_folds > n_groups:\n",
    "            raise ValueError(\n",
    "                (\"Cannot have number of folds={0} greater than\"\n",
    "                 \" the number of groups={1}\").format(n_folds,\n",
    "                                                     n_groups))\n",
    "        group_test_size = n_groups // n_folds\n",
    "        group_test_starts = range(n_groups - n_splits * group_test_size,\n",
    "                                  n_groups, group_test_size)\n",
    "        for group_test_start in group_test_starts:\n",
    "            train_array = []\n",
    "            test_array = []\n",
    "            for train_group_idx in unique_groups[:group_test_start]:\n",
    "                train_array_tmp = group_dict[train_group_idx]\n",
    "                train_array = np.sort(np.unique(\n",
    "                                      np.concatenate((train_array,\n",
    "                                                      train_array_tmp)),\n",
    "                                      axis=None), axis=None)\n",
    "            train_end = train_array.size\n",
    "            if self.max_train_size and self.max_train_size < train_end:\n",
    "                train_array = train_array[train_end -\n",
    "                                          self.max_train_size:train_end]\n",
    "            for test_group_idx in unique_groups[group_test_start:\n",
    "                                                group_test_start +\n",
    "                                                group_test_size]:\n",
    "                test_array_tmp = group_dict[test_group_idx]\n",
    "                test_array = np.sort(np.unique(\n",
    "                                              np.concatenate((test_array,\n",
    "                                                              test_array_tmp)),\n",
    "                                     axis=None), axis=None)\n",
    "            yield [int(i) for i in train_array], [int(i) for i in test_array]"
   ]
  },
  {
   "cell_type": "markdown",
   "metadata": {},
   "source": [
    "# Training"
   ]
  },
  {
   "cell_type": "code",
   "execution_count": null,
   "metadata": {},
   "outputs": [],
   "source": [
    "p_best = {'learning_rate': 0.050055662268729532,\n",
    "          'max_depth': 6, \n",
    "          'gamma': 0.07902741481945934, \n",
    "          'min_child_weight': 9.9404564544994, \n",
    "          'subsample': 0.7001330243186357, \n",
    "          'colsample_bytree': 0.7064645381596891, \n",
    "          'objective': 'binary:logistic',\n",
    "          'eval_metric': 'auc', \n",
    "          'tree_method': 'gpu_hist', \n",
    "          'random_state': 42,\n",
    "         }\n",
    "\n",
    "models = []\n",
    "val_idx = []\n",
    "oof = np.zeros(len(train['action']))\n",
    "gkf = GroupTimeSeriesSplit(n_splits = 5)\n",
    "# gkf = GroupKFold(n_splits = 5)\n",
    "for fold, (tr, te) in enumerate(gkf.split(train['action'].values.get(), groups = train['date'].values.get())):\n",
    "    val_idx.append(te)\n",
    "    X_tr, X_val = train.loc[tr, features], train.loc[te, features]\n",
    "    y_tr, y_val = train.loc[tr, 'action'], train.loc[te, 'action']\n",
    "    \n",
    "    d_tr = xgb.DMatrix(X_tr, y_tr)\n",
    "    d_val = xgb.DMatrix(X_val, y_val)\n",
    "    clf = xgb.train(p_best, d_tr, 10000, [(d_val, 'eval')], early_stopping_rounds = 100, verbose_eval = 0)\n",
    "    oof[te] += clf.predict(d_val, ntree_limit = clf.best_ntree_limit)\n",
    "    score = roc_auc_score(y_val.values.get(), oof[te])\n",
    "    print(f'Fold {fold} ROC AUC:\\t', score)\n",
    "    models.append(clf)\n",
    "    \n",
    "    del X_tr, X_val, y_tr, y_val, d_tr, d_val\n",
    "    rubbish = gc.collect()\n",
    "    \n",
    "val_idx = np.concatenate(val_idx)"
   ]
  },
  {
   "cell_type": "code",
   "execution_count": null,
   "metadata": {},
   "outputs": [],
   "source": [
    "score_oof = roc_auc_score(train['action'].values.get()[val_idx], oof[val_idx])\n",
    "print(score_oof)"
   ]
  },
  {
   "cell_type": "markdown",
   "metadata": {},
   "source": [
    "# Decision Threshold Optimisation"
   ]
  },
  {
   "cell_type": "code",
   "execution_count": null,
   "metadata": {},
   "outputs": [],
   "source": [
    "fpr, tpr, th = roc_curve(train['action'].values.get()[val_idx], oof[val_idx])\n",
    "plt.figure(figsize = (8, 6))\n",
    "plt.title('Receiver Operating Characteristic (ROC) Curve', fontsize = 14)\n",
    "plt.plot(fpr, tpr, 'r--', label = 'AUC = %0.5f' % score_oof, ms = 5, markerfacecolor = 'none', linewidth = '3')\n",
    "plt.legend(loc = 'lower right', fontsize = 12)\n",
    "plt.plot([0, 1], [0, 1],'k--')\n",
    "plt.xlim([0.01, 1])\n",
    "plt.ylim([0.00001, 1])\n",
    "plt.xticks(fontsize = 12)\n",
    "plt.yticks(fontsize = 12)\n",
    "plt.ylabel('True Positive Probability', fontsize = 12)\n",
    "plt.xlabel('False Positive Probability', fontsize = 12)\n",
    "plt.show()"
   ]
  },
  {
   "cell_type": "code",
   "execution_count": null,
   "metadata": {},
   "outputs": [],
   "source": [
    "# def acc_thred(th, fpr, tpr, name, index):\n",
    "#     fpr_ct = cp.array(fpr)\n",
    "#     tpr_ct = cp.array(tpr)\n",
    "#     th_ct = cp.array(th)\n",
    "#     # Choose the decision threshold optimisation index\n",
    "#     if index == 'Euclidean':\n",
    "#         # Euclidean Index\n",
    "#         opt_idx = cp.argmin(cp.sqrt(cp.square(1-tpr_ct) + cp.square(fpr_ct)))\n",
    "#     elif index == 'Youden':\n",
    "#         # Youden Index\n",
    "#         opt_idx = cp.argmax(tpr_ct-fpr_ct)\n",
    "#     else:\n",
    "#         # Unknown Index\n",
    "#         print('Unkown Index. Reset to Youden Index.')\n",
    "#         opt_idx = cp.argmax(tpr_ct-fpr_ct)\n",
    "#     opt_fpr = fpr_ct[opt_idx]\n",
    "#     opt_tpr = tpr_ct[opt_idx]\n",
    "#     opt_th = th_ct[opt_idx]\n",
    "#     print('Best False Positive Probability ('+name+'):\\t', opt_fpr)\n",
    "#     print('Best True Positive Probability ('+name+'):\\t', opt_tpr)\n",
    "#     print('Best Decision Threshold ('+name+'):\\t\\t', opt_th)\n",
    "#     return opt_fpr.item(), opt_tpr.item(), opt_th.item()"
   ]
  },
  {
   "cell_type": "code",
   "execution_count": null,
   "metadata": {},
   "outputs": [],
   "source": [
    "# opt_fpr, opt_tpr, opt_th = acc_thred(th, fpr, tpr, 'XGB', 'Youden')"
   ]
  },
  {
   "cell_type": "markdown",
   "metadata": {},
   "source": [
    "# Optimise Threshold By Utility Score"
   ]
  },
  {
   "cell_type": "code",
   "execution_count": null,
   "metadata": {},
   "outputs": [],
   "source": [
    "# def utility_score(df, action):\n",
    "#     df['actionv'] = action\n",
    "#     count_i = len(df['date'].unique())\n",
    "#     Pi = cp.zeros(count_i)\n",
    "#     for i, day in enumerate(df['date'].unique().values.tolist()):\n",
    "#         tmp = df.loc[df['date'] == day, ['weight', 'resp', 'actionv']]\n",
    "#         Pi[i] = (tmp['weight'] * tmp['resp'] * tmp['actionv']).sum()\n",
    "    \n",
    "#     t = cp.sum(Pi) / cp.sqrt(cp.sum(Pi ** 2)) * cp.sqrt(250 / count_i)\n",
    "#     u = cp.minimum(cp.maximum(t, 0), 6) * cp.sum(Pi)\n",
    "#     del df['actionv']\n",
    "#     return u.item()"
   ]
  },
  {
   "cell_type": "code",
   "execution_count": null,
   "metadata": {},
   "outputs": [],
   "source": [
    "# oof = cp.array(oof)\n",
    "# opt_th = 0\n",
    "# opt_u = 0\n",
    "# gap = oof.max() - oof.min()\n",
    "# bins = 50\n",
    "# for th in tqdm(cp.arange(oof.min(), oof.max(), gap.get() / bins)):\n",
    "#     action = cp.where(oof >= th, 1, 0)\n",
    "#     u = utility_score(train, action)\n",
    "#     if u > opt_u:\n",
    "#         opt_th = th.item()\n",
    "#         opt_u = u\n",
    "#         print(opt_th, opt_u)"
   ]
  },
  {
   "cell_type": "markdown",
   "metadata": {},
   "source": [
    "# Example Test Prediction Analysis"
   ]
  },
  {
   "cell_type": "code",
   "execution_count": null,
   "metadata": {},
   "outputs": [],
   "source": [
    "# example_test = cudf.read_csv('../input/jane-street-market-prediction/example_test.csv')\n",
    "# d_tt = xgb.DMatrix(example_test.loc[:, features])\n",
    "# test_preds = np.zeros(example_test.shape[0])\n",
    "# for i, clf in enumerate(models):\n",
    "#     test_preds += clf.predict(d_tt, ntree_limit = clf.best_ntree_limit) / len(models)\n",
    "# print(test_preds.min())\n",
    "# print(test_preds.max())\n",
    "# print(test_preds.mean())\n",
    "# print(test_preds.std())\n",
    "# plt.hist(test_preds, bins = 100)\n",
    "# plt.show()"
   ]
  },
  {
   "cell_type": "markdown",
   "metadata": {},
   "source": [
    "# Submitting"
   ]
  },
  {
   "cell_type": "code",
   "execution_count": null,
   "metadata": {},
   "outputs": [],
   "source": [
    "env = janestreet.make_env()\n",
    "env_iter = env.iter_test()"
   ]
  },
  {
   "cell_type": "code",
   "execution_count": null,
   "metadata": {
    "_kg_hide-output": true
   },
   "outputs": [],
   "source": [
    "opt_th = 0.5\n",
    "for (test_df, pred_df) in tqdm(env_iter):\n",
    "    if test_df['weight'].item() > 0:\n",
    "#         x_tt = test_df.loc[:, features].values\n",
    "#         if np.isnan(x_tt[:, 1:].sum()):\n",
    "#             x_tt[:, 1:] = np.nan_to_num(x_tt[:, 1:]) + np.isnan(x_tt[:, 1:]) * f_mean\n",
    "        d_tt = xgb.DMatrix(test_df.loc[:, features])\n",
    "        for i, clf in enumerate(models):\n",
    "            if i == 0:\n",
    "                pred = clf.predict(d_tt, ntree_limit = clf.best_ntree_limit) / len(models)\n",
    "            else:\n",
    "                pred += clf.predict(d_tt, ntree_limit = clf.best_ntree_limit) / len(models)\n",
    "#         pred = models[-1].predict(d_tt, ntree_limit = models[-1].best_ntree_limit)\n",
    "        pred_df.action = np.where(pred >= opt_th, 1, 0).astype(int)\n",
    "    else:\n",
    "        pred_df.action = 0\n",
    "    env.predict(pred_df)"
   ]
  }
 ],
 "metadata": {
  "kernelspec": {
   "display_name": "Python 3",
   "language": "python",
   "name": "python3"
  },
  "language_info": {
   "codemirror_mode": {
    "name": "ipython",
    "version": 3
   },
   "file_extension": ".py",
   "mimetype": "text/x-python",
   "name": "python",
   "nbconvert_exporter": "python",
   "pygments_lexer": "ipython3",
   "version": "3.7.6"
  }
 },
 "nbformat": 4,
 "nbformat_minor": 4
}
